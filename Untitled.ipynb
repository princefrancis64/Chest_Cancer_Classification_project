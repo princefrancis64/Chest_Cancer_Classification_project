{
 "cells": [
  {
   "cell_type": "code",
   "execution_count": 1,
   "id": "faa77e0d-f8ae-4aff-8425-cc36aa7c4019",
   "metadata": {},
   "outputs": [],
   "source": [
    "from pathlib import Path"
   ]
  },
  {
   "cell_type": "code",
   "execution_count": 11,
   "id": "be02cf9c-bbee-4a3f-95fe-96a8e20b9ccd",
   "metadata": {},
   "outputs": [],
   "source": [
    "filepath = '.github/workflows/.gitkeep'"
   ]
  },
  {
   "cell_type": "code",
   "execution_count": 12,
   "id": "b6f73ed4-15ed-46e0-8dec-a5197bbc8dd7",
   "metadata": {},
   "outputs": [
    {
     "data": {
      "text/plain": [
       "WindowsPath('.github/workflows/.gitkeep')"
      ]
     },
     "execution_count": 12,
     "metadata": {},
     "output_type": "execute_result"
    }
   ],
   "source": [
    "Path(filepath)"
   ]
  },
  {
   "cell_type": "code",
   "execution_count": 13,
   "id": "c65d594d-4059-451c-9c67-75931563500c",
   "metadata": {},
   "outputs": [
    {
     "data": {
      "text/plain": [
       "('.github/workflows', '.gitkeep')"
      ]
     },
     "execution_count": 13,
     "metadata": {},
     "output_type": "execute_result"
    }
   ],
   "source": [
    "import os\n",
    "os.path.split(filepath)"
   ]
  },
  {
   "cell_type": "code",
   "execution_count": null,
   "id": "738e77f2-11ae-4e7a-a5c6-a691543b6233",
   "metadata": {},
   "outputs": [],
   "source": []
  }
 ],
 "metadata": {
  "kernelspec": {
   "display_name": "Python 3 (ipykernel)",
   "language": "python",
   "name": "python3"
  },
  "language_info": {
   "codemirror_mode": {
    "name": "ipython",
    "version": 3
   },
   "file_extension": ".py",
   "mimetype": "text/x-python",
   "name": "python",
   "nbconvert_exporter": "python",
   "pygments_lexer": "ipython3",
   "version": "3.11.7"
  }
 },
 "nbformat": 4,
 "nbformat_minor": 5
}
